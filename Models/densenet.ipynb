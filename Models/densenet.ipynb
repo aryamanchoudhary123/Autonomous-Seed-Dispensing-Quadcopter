{
 "cells": [
  {
   "cell_type": "code",
   "execution_count": 1,
   "id": "c7e905d8-184d-47c5-b902-7fafb555d22b",
   "metadata": {},
   "outputs": [],
   "source": [
    "import matplotlib.pyplot as plt\n",
    "import numpy as np\n",
    "import pandas as pd\n",
    "import os\n",
    "import PIL\n",
    "import tensorflow as tf\n",
    "from tensorflow import keras\n",
    "from tensorflow.keras import layers\n",
    "from tensorflow.python.keras.layers import Dense, Flatten\n",
    "from tensorflow.keras.models import Sequential\n",
    "from tensorflow.keras.optimizers import Adam"
   ]
  },
  {
   "cell_type": "code",
   "execution_count": 2,
   "id": "33d9791d-d8f0-4485-867d-6807ae58a997",
   "metadata": {},
   "outputs": [],
   "source": [
    "data_dir=\"Data\""
   ]
  },
  {
   "cell_type": "code",
   "execution_count": 3,
   "id": "4d1dd544-8b7d-4ef1-847d-47f786b1c37f",
   "metadata": {
    "tags": []
   },
   "outputs": [
    {
     "name": "stdout",
     "output_type": "stream",
     "text": [
      "Found 720 files belonging to 6 classes.\n",
      "Using 576 files for training.\n"
     ]
    },
    {
     "name": "stderr",
     "output_type": "stream",
     "text": [
      "2022-12-16 21:33:28.930243: I tensorflow/core/platform/cpu_feature_guard.cc:151] This TensorFlow binary is optimized with oneAPI Deep Neural Network Library (oneDNN) to use the following CPU instructions in performance-critical operations:  AVX2 FMA\n",
      "To enable them in other operations, rebuild TensorFlow with the appropriate compiler flags.\n"
     ]
    }
   ],
   "source": [
    "img_height, img_width = 180,180\n",
    "batch_size=32\n",
    "train_ds = tf.keras.preprocessing.image_dataset_from_directory(\n",
    "    data_dir,\n",
    "    validation_split=0.2,\n",
    "    subset=\"training\",\n",
    "    seed=123,\n",
    "    label_mode=\"categorical\",\n",
    "    image_size=(img_height,img_width),\n",
    "    batch_size=batch_size\n",
    ")"
   ]
  },
  {
   "cell_type": "code",
   "execution_count": 4,
   "id": "e4faa0ab-d54b-47f0-b05f-80729580ba6f",
   "metadata": {},
   "outputs": [
    {
     "name": "stdout",
     "output_type": "stream",
     "text": [
      "Found 720 files belonging to 6 classes.\n",
      "Using 144 files for validation.\n"
     ]
    }
   ],
   "source": [
    "val_ds = tf.keras.preprocessing.image_dataset_from_directory(\n",
    "    data_dir,\n",
    "    validation_split=0.2,\n",
    "    subset=\"validation\",\n",
    "    seed=123,\n",
    "    label_mode=\"categorical\",\n",
    "    image_size=(img_height,img_width),\n",
    "    batch_size=batch_size\n",
    ")"
   ]
  },
  {
   "cell_type": "code",
   "execution_count": 5,
   "id": "b3a58b88-9e92-4cc4-abe7-c51ee437685e",
   "metadata": {},
   "outputs": [
    {
     "data": {
      "text/plain": [
       "['Cricket Field', 'Forest Land', 'Grass', 'Hard Sand', 'Road', 'Tiles']"
      ]
     },
     "execution_count": 5,
     "metadata": {},
     "output_type": "execute_result"
    }
   ],
   "source": [
    "class_names = train_ds.class_names\n",
    "class_names"
   ]
  },
  {
   "cell_type": "code",
   "execution_count": 6,
   "id": "4658e1e8-ff41-4e18-8e01-beb2ae59d81f",
   "metadata": {},
   "outputs": [
    {
     "name": "stdout",
     "output_type": "stream",
     "text": [
      "Downloading data from https://storage.googleapis.com/tensorflow/keras-applications/densenet/densenet201_weights_tf_dim_ordering_tf_kernels_notop.h5\n",
      "74842112/74836368 [==============================] - 38s 1us/step\n",
      "74850304/74836368 [==============================] - 38s 1us/step\n"
     ]
    }
   ],
   "source": [
    "densenet_model = Sequential()\n",
    "\n",
    "pretrained_model = tf.keras.applications.DenseNet201(include_top=False,weights=\"imagenet\",\n",
    "                                                     input_shape=(180,180,3),pooling=\"avg\",\n",
    "                                                     classes=6)\n",
    "for layer in pretrained_model.layers:\n",
    "    layer.trainable=False\n",
    "    \n",
    "densenet_model.add(pretrained_model)\n",
    "densenet_model.add(Flatten())\n",
    "densenet_model.add(Dense(512,activation=\"relu\"))\n",
    "densenet_model.add(Dense(6,activation=\"softmax\"))                                         "
   ]
  },
  {
   "cell_type": "code",
   "execution_count": 7,
   "id": "0240482c-09ad-48e2-91e3-f3da3ce34159",
   "metadata": {},
   "outputs": [
    {
     "name": "stdout",
     "output_type": "stream",
     "text": [
      "Model: \"sequential\"\n",
      "_________________________________________________________________\n",
      " Layer (type)                Output Shape              Param #   \n",
      "=================================================================\n",
      " densenet201 (Functional)    (None, 1920)              18321984  \n",
      "                                                                 \n",
      " module_wrapper (ModuleWrapp  (None, 1920)             0         \n",
      " er)                                                             \n",
      "                                                                 \n",
      " module_wrapper_1 (ModuleWra  (None, 512)              983552    \n",
      " pper)                                                           \n",
      "                                                                 \n",
      " module_wrapper_2 (ModuleWra  (None, 6)                3078      \n",
      " pper)                                                           \n",
      "                                                                 \n",
      "=================================================================\n",
      "Total params: 19,308,614\n",
      "Trainable params: 986,630\n",
      "Non-trainable params: 18,321,984\n",
      "_________________________________________________________________\n"
     ]
    }
   ],
   "source": [
    "densenet_model.summary()"
   ]
  },
  {
   "cell_type": "code",
   "execution_count": 8,
   "id": "0a0392e7-420c-4c1b-ae33-9a6798e16d89",
   "metadata": {},
   "outputs": [],
   "source": [
    "densenet_model.compile(optimizer=Adam(learning_rate=0.001),loss=tf.losses.BinaryCrossentropy(),\n",
    "                     metrics=[\"accuracy\"])"
   ]
  },
  {
   "cell_type": "code",
   "execution_count": 9,
   "id": "d04024ac-e264-4f7d-b27b-1950b0e122de",
   "metadata": {},
   "outputs": [
    {
     "name": "stdout",
     "output_type": "stream",
     "text": [
      "Epoch 1/10\n",
      "18/18 [==============================] - 114s 5s/step - loss: 0.2967 - accuracy: 0.8125 - val_loss: 0.0474 - val_accuracy: 0.9722\n",
      "Epoch 2/10\n",
      "18/18 [==============================] - 97s 5s/step - loss: 0.0338 - accuracy: 0.9722 - val_loss: 0.0368 - val_accuracy: 0.9653\n",
      "Epoch 3/10\n",
      "18/18 [==============================] - 123s 7s/step - loss: 0.0149 - accuracy: 0.9913 - val_loss: 0.0173 - val_accuracy: 0.9861\n",
      "Epoch 4/10\n",
      "18/18 [==============================] - 109s 6s/step - loss: 0.0054 - accuracy: 0.9983 - val_loss: 0.0106 - val_accuracy: 0.9931\n",
      "Epoch 5/10\n",
      "18/18 [==============================] - 92s 5s/step - loss: 0.0042 - accuracy: 1.0000 - val_loss: 0.0093 - val_accuracy: 0.9931\n",
      "Epoch 6/10\n",
      "18/18 [==============================] - 90s 5s/step - loss: 0.0030 - accuracy: 1.0000 - val_loss: 0.0076 - val_accuracy: 0.9931\n",
      "Epoch 7/10\n",
      "18/18 [==============================] - 90s 5s/step - loss: 0.0022 - accuracy: 1.0000 - val_loss: 0.0088 - val_accuracy: 0.9931\n",
      "Epoch 8/10\n",
      "18/18 [==============================] - 93s 5s/step - loss: 0.0017 - accuracy: 1.0000 - val_loss: 0.0077 - val_accuracy: 0.9931\n",
      "Epoch 9/10\n",
      "18/18 [==============================] - 98s 5s/step - loss: 0.0015 - accuracy: 1.0000 - val_loss: 0.0078 - val_accuracy: 0.9931\n",
      "Epoch 10/10\n",
      "18/18 [==============================] - 95s 5s/step - loss: 0.0015 - accuracy: 1.0000 - val_loss: 0.0075 - val_accuracy: 0.9931\n"
     ]
    }
   ],
   "source": [
    "epochs=10\n",
    "history = densenet_model.fit(train_ds,\n",
    "                           validation_data = val_ds,\n",
    "                           epochs=epochs)"
   ]
  },
  {
   "cell_type": "code",
   "execution_count": 10,
   "id": "d353e906-5b60-41a9-aa38-5450768d2f92",
   "metadata": {},
   "outputs": [
    {
     "data": {
      "image/png": "[encoded data removed]",
      "text/plain": [
       "<Figure size 432x288 with 1 Axes>"
      ]
     },
     "metadata": {
      "needs_background": "light"
     },
     "output_type": "display_data"
    }
   ],
   "source": [
    "fig1 = plt.gcf()\n",
    "plt.plot(history.history[\"accuracy\"])\n",
    "plt.plot(history.history[\"val_accuracy\"])\n",
    "plt.grid()\n",
    "plt.title(\"DenseNet Accuracy\")\n",
    "plt.ylabel(\"Accuracy\")\n",
    "plt.xlabel(\"Epochs\")\n",
    "plt.legend([\"train\",\"validation\"])\n",
    "plt.savefig(\"Densenet-accuracy.png\")\n",
    "plt.show()\n"
   ]
  },
  {
   "cell_type": "code",
   "execution_count": 11,
   "id": "916d0e0c-6d56-444c-9dd4-6cc933b31677",
   "metadata": {},
   "outputs": [
    {
     "data": {
      "image/png": "[encoded data removed]",
      "text/plain": [
       "<Figure size 432x288 with 1 Axes>"
      ]
     },
     "metadata": {
      "needs_background": "light"
     },
     "output_type": "display_data"
    }
   ],
   "source": [
    "fig1 = plt.gcf()\n",
    "plt.plot(history.history[\"loss\"])\n",
    "plt.plot(history.history[\"val_loss\"])\n",
    "plt.grid()\n",
    "plt.title(\"Densenet Loss\")\n",
    "plt.ylabel(\"Loss\")\n",
    "plt.xlabel(\"Epochs\")\n",
    "plt.legend([\"train\",\"validation\"])\n",
    "plt.savefig(\"Densenet-loss.png\")\n",
    "plt.show()\n",
    "\n"
   ]
  },
  {
   "cell_type": "code",
   "execution_count": 13,
   "id": "5d7404cf-d248-40b9-8931-f438ee76f30d",
   "metadata": {},
   "outputs": [
    {
     "data": {
      "text/plain": [
       "0.9774305522441864"
      ]
     },
     "execution_count": 13,
     "metadata": {},
     "output_type": "execute_result"
    }
   ],
   "source": [
    "np.mean(history.history[\"accuracy\"])"
   ]
  },
  {
   "cell_type": "code",
   "execution_count": null,
   "id": "303e35ba-fe88-4ae4-91ed-b5610524ce28",
   "metadata": {},
   "outputs": [],
   "source": []
  }
 ],
 "metadata": {
  "kernelspec": {
   "display_name": "Python 3 (ipykernel)",
   "language": "python",
   "name": "python3"
  },
  "language_info": {
   "codemirror_mode": {
    "name": "ipython",
    "version": 3
   },
   "file_extension": ".py",
   "mimetype": "text/x-python",
   "name": "python",
   "nbconvert_exporter": "python",
   "pygments_lexer": "ipython3",
   "version": "3.9.7"
  }
 },
 "nbformat": 4,
 "nbformat_minor": 5
}
