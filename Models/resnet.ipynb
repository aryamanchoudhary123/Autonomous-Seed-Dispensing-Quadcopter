{
 "cells": [
  {
   "cell_type": "code",
   "execution_count": 1,
   "id": "c7e905d8-184d-47c5-b902-7fafb555d22b",
   "metadata": {},
   "outputs": [],
   "source": [
    "import matplotlib.pyplot as plt\n",
    "import numpy as np\n",
    "import pandas as pd\n",
    "import os\n",
    "import PIL\n",
    "import tensorflow as tf\n",
    "from tensorflow import keras\n",
    "from tensorflow.keras import layers\n",
    "from tensorflow.python.keras.layers import Dense, Flatten\n",
    "from tensorflow.keras.models import Sequential\n",
    "from tensorflow.keras.optimizers import Adam"
   ]
  },
  {
   "cell_type": "code",
   "execution_count": 2,
   "id": "33d9791d-d8f0-4485-867d-6807ae58a997",
   "metadata": {},
   "outputs": [],
   "source": [
    "data_dir=\"Data\""
   ]
  },
  {
   "cell_type": "code",
   "execution_count": 3,
   "id": "4d1dd544-8b7d-4ef1-847d-47f786b1c37f",
   "metadata": {
    "tags": []
   },
   "outputs": [
    {
     "name": "stdout",
     "output_type": "stream",
     "text": [
      "Found 720 files belonging to 6 classes.\n",
      "Using 576 files for training.\n"
     ]
    },
    {
     "name": "stderr",
     "output_type": "stream",
     "text": [
      "2022-12-16 19:50:58.355750: I tensorflow/core/platform/cpu_feature_guard.cc:151] This TensorFlow binary is optimized with oneAPI Deep Neural Network Library (oneDNN) to use the following CPU instructions in performance-critical operations:  AVX2 FMA\n",
      "To enable them in other operations, rebuild TensorFlow with the appropriate compiler flags.\n"
     ]
    }
   ],
   "source": [
    "img_height, img_width = 180,180\n",
    "batch_size=32\n",
    "train_ds = tf.keras.preprocessing.image_dataset_from_directory(\n",
    "    data_dir,\n",
    "    validation_split=0.2,\n",
    "    subset=\"training\",\n",
    "    seed=123,\n",
    "    label_mode=\"categorical\",\n",
    "    image_size=(img_height,img_width),\n",
    "    batch_size=batch_size\n",
    ")"
   ]
  },
  {
   "cell_type": "code",
   "execution_count": 4,
   "id": "e4faa0ab-d54b-47f0-b05f-80729580ba6f",
   "metadata": {},
   "outputs": [
    {
     "name": "stdout",
     "output_type": "stream",
     "text": [
      "Found 720 files belonging to 6 classes.\n",
      "Using 144 files for validation.\n"
     ]
    }
   ],
   "source": [
    "val_ds = tf.keras.preprocessing.image_dataset_from_directory(\n",
    "    data_dir,\n",
    "    validation_split=0.2,\n",
    "    subset=\"validation\",\n",
    "    seed=123,\n",
    "    label_mode=\"categorical\",\n",
    "    image_size=(img_height,img_width),\n",
    "    batch_size=batch_size\n",
    ")"
   ]
  },
  {
   "cell_type": "code",
   "execution_count": 5,
   "id": "b3a58b88-9e92-4cc4-abe7-c51ee437685e",
   "metadata": {},
   "outputs": [
    {
     "data": {
      "text/plain": [
       "['Cricket Field', 'Forest Land', 'Grass', 'Hard Sand', 'Road', 'Tiles']"
      ]
     },
     "execution_count": 5,
     "metadata": {},
     "output_type": "execute_result"
    }
   ],
   "source": [
    "class_names = train_ds.class_names\n",
    "class_names"
   ]
  },
  {
   "cell_type": "code",
   "execution_count": 6,
   "id": "4658e1e8-ff41-4e18-8e01-beb2ae59d81f",
   "metadata": {},
   "outputs": [],
   "source": [
    "resnet_model = Sequential()\n",
    "\n",
    "pretrained_model = tf.keras.applications.ResNet50(include_top=False,\n",
    "                                                  input_shape = (180,180,3),\n",
    "                                                  pooling=\"avg\",classes=6,\n",
    "                                                  weights=\"imagenet\")\n",
    "for layer in pretrained_model.layers:\n",
    "    layer.trainable=False\n",
    "    \n",
    "resnet_model.add(pretrained_model)\n",
    "resnet_model.add(Flatten())\n",
    "resnet_model.add(Dense(512,activation=\"relu\"))\n",
    "resnet_model.add(Dense(6,activation=\"softmax\"))                                         "
   ]
  },
  {
   "cell_type": "code",
   "execution_count": 7,
   "id": "0240482c-09ad-48e2-91e3-f3da3ce34159",
   "metadata": {},
   "outputs": [
    {
     "name": "stdout",
     "output_type": "stream",
     "text": [
      "Model: \"sequential\"\n",
      "_________________________________________________________________\n",
      " Layer (type)                Output Shape              Param #   \n",
      "=================================================================\n",
      " resnet50 (Functional)       (None, 2048)              23587712  \n",
      "                                                                 \n",
      " module_wrapper (ModuleWrapp  (None, 2048)             0         \n",
      " er)                                                             \n",
      "                                                                 \n",
      " module_wrapper_1 (ModuleWra  (None, 512)              1049088   \n",
      " pper)                                                           \n",
      "                                                                 \n",
      " module_wrapper_2 (ModuleWra  (None, 6)                3078      \n",
      " pper)                                                           \n",
      "                                                                 \n",
      "=================================================================\n",
      "Total params: 24,639,878\n",
      "Trainable params: 1,052,166\n",
      "Non-trainable params: 23,587,712\n",
      "_________________________________________________________________\n"
     ]
    }
   ],
   "source": [
    "resnet_model.summary()"
   ]
  },
  {
   "cell_type": "code",
   "execution_count": 8,
   "id": "0a0392e7-420c-4c1b-ae33-9a6798e16d89",
   "metadata": {},
   "outputs": [],
   "source": [
    "resnet_model.compile(optimizer=Adam(learning_rate=0.001),loss=tf.losses.BinaryCrossentropy(),\n",
    "                     metrics=[\"accuracy\"])"
   ]
  },
  {
   "cell_type": "code",
   "execution_count": 9,
   "id": "d04024ac-e264-4f7d-b27b-1950b0e122de",
   "metadata": {},
   "outputs": [
    {
     "name": "stdout",
     "output_type": "stream",
     "text": [
      "Epoch 1/10\n",
      "18/18 [==============================] - 97s 5s/step - loss: 0.1864 - accuracy: 0.8281 - val_loss: 0.0282 - val_accuracy: 0.9931\n",
      "Epoch 2/10\n",
      "18/18 [==============================] - 76s 4s/step - loss: 0.0166 - accuracy: 0.9931 - val_loss: 0.0188 - val_accuracy: 0.9931\n",
      "Epoch 3/10\n",
      "18/18 [==============================] - 75s 4s/step - loss: 0.0091 - accuracy: 0.9948 - val_loss: 0.0142 - val_accuracy: 0.9931\n",
      "Epoch 4/10\n",
      "18/18 [==============================] - 69s 4s/step - loss: 0.0045 - accuracy: 1.0000 - val_loss: 0.0098 - val_accuracy: 0.9931\n",
      "Epoch 5/10\n",
      "18/18 [==============================] - 76s 4s/step - loss: 0.0031 - accuracy: 1.0000 - val_loss: 0.0153 - val_accuracy: 0.9792\n",
      "Epoch 6/10\n",
      "18/18 [==============================] - 81s 5s/step - loss: 0.0026 - accuracy: 1.0000 - val_loss: 0.0080 - val_accuracy: 0.9931\n",
      "Epoch 7/10\n",
      "18/18 [==============================] - 69s 4s/step - loss: 0.0019 - accuracy: 1.0000 - val_loss: 0.0102 - val_accuracy: 0.9931\n",
      "Epoch 8/10\n",
      "18/18 [==============================] - 62s 3s/step - loss: 0.0015 - accuracy: 1.0000 - val_loss: 0.0099 - val_accuracy: 0.9931\n",
      "Epoch 9/10\n",
      "18/18 [==============================] - 61s 3s/step - loss: 0.0012 - accuracy: 1.0000 - val_loss: 0.0090 - val_accuracy: 0.9931\n",
      "Epoch 10/10\n",
      "18/18 [==============================] - 59s 3s/step - loss: 9.6344e-04 - accuracy: 1.0000 - val_loss: 0.0107 - val_accuracy: 0.9931\n"
     ]
    }
   ],
   "source": [
    "epochs=10\n",
    "history = resnet_model.fit(train_ds,\n",
    "                           validation_data = val_ds,\n",
    "                           epochs=epochs)"
   ]
  },
  {
   "cell_type": "code",
   "execution_count": 12,
   "id": "d353e906-5b60-41a9-aa38-5450768d2f92",
   "metadata": {},
   "outputs": [
    {
     "data": {
      "image/png": "[encoded data removed]",
      "text/plain": [
       "<Figure size 432x288 with 1 Axes>"
      ]
     },
     "metadata": {
      "needs_background": "light"
     },
     "output_type": "display_data"
    }
   ],
   "source": [
    "fig1 = plt.gcf()\n",
    "plt.plot(history.history[\"accuracy\"])\n",
    "plt.plot(history.history[\"val_accuracy\"])\n",
    "#plt.axis(ymin=0.4,ymax=1)\n",
    "plt.grid()\n",
    "plt.title(\"Resnet Accuracy\")\n",
    "plt.ylabel(\"Accuracy\")\n",
    "plt.xlabel(\"Epochs\")\n",
    "plt.legend([\"train\",\"validation\"])\n",
    "plt.savefig(\"resnet-accuracy.png\")\n",
    "plt.show()\n"
   ]
  },
  {
   "cell_type": "code",
   "execution_count": 13,
   "id": "916d0e0c-6d56-444c-9dd4-6cc933b31677",
   "metadata": {},
   "outputs": [
    {
     "data": {
      "image/png": "[encoded data removed]",
      "text/plain": [
       "<Figure size 432x288 with 1 Axes>"
      ]
     },
     "metadata": {
      "needs_background": "light"
     },
     "output_type": "display_data"
    }
   ],
   "source": [
    "fig1 = plt.gcf()\n",
    "plt.plot(history.history[\"loss\"])\n",
    "plt.plot(history.history[\"val_loss\"])\n",
    "#plt.axis(ymin=0.4,ymax=1)\n",
    "plt.grid()\n",
    "plt.title(\"Resnet Loss\")\n",
    "plt.ylabel(\"Loss\")\n",
    "plt.xlabel(\"Epochs\")\n",
    "plt.legend([\"train\",\"validation\"])\n",
    "plt.savefig(\"resnet-loss.png\")\n",
    "plt.show()\n",
    "\n"
   ]
  },
  {
   "cell_type": "code",
   "execution_count": 15,
   "id": "5d7404cf-d248-40b9-8931-f438ee76f30d",
   "metadata": {},
   "outputs": [
    {
     "data": {
      "text/plain": [
       "0.981597226858139"
      ]
     },
     "execution_count": 15,
     "metadata": {},
     "output_type": "execute_result"
    }
   ],
   "source": [
    "np.mean(history.history[\"accuracy\"])"
   ]
  },
  {
   "cell_type": "code",
   "execution_count": null,
   "id": "c00300ab-601a-420e-a56e-bb21c014e3a3",
   "metadata": {},
   "outputs": [],
   "source": []
  }
 ],
 "metadata": {
  "kernelspec": {
   "display_name": "Python 3 (ipykernel)",
   "language": "python",
   "name": "python3"
  },
  "language_info": {
   "codemirror_mode": {
    "name": "ipython",
    "version": 3
   },
   "file_extension": ".py",
   "mimetype": "text/x-python",
   "name": "python",
   "nbconvert_exporter": "python",
   "pygments_lexer": "ipython3",
   "version": "3.9.7"
  }
 },
 "nbformat": 4,
 "nbformat_minor": 5
}
